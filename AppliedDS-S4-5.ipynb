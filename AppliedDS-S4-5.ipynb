{
 "cells": [
  {
   "cell_type": "markdown",
   "metadata": {},
   "source": [
    "---\n",
    "# <center> **Introduction to Applied Data Science**\n",
    "\n",
    "### <center> *Prof. Bahram Mobasher*\n",
    "#### <center> Teaching Assistant: *[Sina Taamoli](https://sinataamoli.github.io/)* | email: *sina.taamoli@email.ucr.edu*\n",
    "### <center> **Week 4 & 5: Homework 1 - Bayesian Statistics**\n",
    "---"
   ]
  },
  {
   "cell_type": "code",
   "execution_count": null,
   "id": "82dcbabf",
   "metadata": {},
   "outputs": [],
   "source": [
    "#Problem 1: Linear Algebra"
   ]
  },
  {
   "cell_type": "code",
   "execution_count": 1,
   "id": "ccf8d9e1",
   "metadata": {},
   "outputs": [],
   "source": [
    "import numpy as np\n",
    "import time\n",
    "import matplotlib.pyplot as plt\n"
   ]
  },
  {
   "cell_type": "code",
   "execution_count": 2,
   "id": "52d6b456",
   "metadata": {},
   "outputs": [],
   "source": [
    "A = [[0, 0, 0, 0, 0, 0, 0, 0, 1, 0], \n",
    "     [0, 0, 1, 0, 1, 0, 0, 0, 0, 0],\n",
    "     [0, 1, 0, 1, 0, 1, 0, 0, 0, 0],\n",
    "     [0, 0, 1, 0, 0, 0, 1, 0, 0, 0],\n",
    "     [0, 1, 0, 0, 0, 1, 0, 1, 0, 0],\n",
    "     [0, 0, 1, 0, 1, 0, 1, 0, 1, 0],\n",
    "     [0, 0, 0, 1, 0, 1, 0, 0, 0, 1],\n",
    "     [0, 0, 0, 0, 1, 0, 0, 0, 1, 0],\n",
    "     [1, 0, 0, 0, 0, 1, 0, 1, 0, 1],\n",
    "     [0, 0, 0, 0, 0, 0, 1, 0, 1, 0]]"
   ]
  },
  {
   "cell_type": "code",
   "execution_count": 3,
   "id": "96fb0ec0",
   "metadata": {},
   "outputs": [
    {
     "data": {
      "text/plain": [
       "array([[0, 0, 0, 0, 0, 0, 0, 0, 1, 0],\n",
       "       [0, 0, 1, 0, 1, 0, 0, 0, 0, 0],\n",
       "       [0, 1, 0, 1, 0, 1, 0, 0, 0, 0],\n",
       "       [0, 0, 1, 0, 0, 0, 1, 0, 0, 0],\n",
       "       [0, 1, 0, 0, 0, 1, 0, 1, 0, 0],\n",
       "       [0, 0, 1, 0, 1, 0, 1, 0, 1, 0],\n",
       "       [0, 0, 0, 1, 0, 1, 0, 0, 0, 1],\n",
       "       [0, 0, 0, 0, 1, 0, 0, 0, 1, 0],\n",
       "       [1, 0, 0, 0, 0, 1, 0, 1, 0, 1],\n",
       "       [0, 0, 0, 0, 0, 0, 1, 0, 1, 0]])"
      ]
     },
     "execution_count": 3,
     "metadata": {},
     "output_type": "execute_result"
    }
   ],
   "source": [
    "# c\n",
    "np.transpose(A)\n",
    "#they are equal"
   ]
  },
  {
   "cell_type": "code",
   "execution_count": 4,
   "metadata": {},
   "outputs": [
    {
     "data": {
      "text/plain": [
       "array([[ True,  True,  True,  True,  True,  True,  True,  True,  True,\n",
       "         True],\n",
       "       [ True,  True,  True,  True,  True,  True,  True,  True,  True,\n",
       "         True],\n",
       "       [ True,  True,  True,  True,  True,  True,  True,  True,  True,\n",
       "         True],\n",
       "       [ True,  True,  True,  True,  True,  True,  True,  True,  True,\n",
       "         True],\n",
       "       [ True,  True,  True,  True,  True,  True,  True,  True,  True,\n",
       "         True],\n",
       "       [ True,  True,  True,  True,  True,  True,  True,  True,  True,\n",
       "         True],\n",
       "       [ True,  True,  True,  True,  True,  True,  True,  True,  True,\n",
       "         True],\n",
       "       [ True,  True,  True,  True,  True,  True,  True,  True,  True,\n",
       "         True],\n",
       "       [ True,  True,  True,  True,  True,  True,  True,  True,  True,\n",
       "         True],\n",
       "       [ True,  True,  True,  True,  True,  True,  True,  True,  True,\n",
       "         True]])"
      ]
     },
     "execution_count": 4,
     "metadata": {},
     "output_type": "execute_result"
    }
   ],
   "source": [
    "np.equal(np.transpose(A), A)"
   ]
  },
  {
   "cell_type": "code",
   "execution_count": 5,
   "id": "a31641ed",
   "metadata": {},
   "outputs": [],
   "source": [
    "# d\n",
    "\n",
    "def Dialer_Problem (S,N):\n",
    "    \n",
    "    s = A\n",
    "    s_1 = np.matrix([1, 1, 1, 1, 1, 1, 1, 1, 1, 1])\n",
    "    s_t = np.transpose(s_1)\n",
    "    \n",
    "    if N > 1 :\n",
    "        for x in range(1, N-1):\n",
    "            s = np.matmul(s ,A) \n",
    "        result = np.matmul(s, s_t)\n",
    "        return result[S].sum()\n",
    "    else:\n",
    "        print(1)"
   ]
  },
  {
   "cell_type": "code",
   "execution_count": 6,
   "id": "1b993244",
   "metadata": {
    "scrolled": false
   },
   "outputs": [
    {
     "data": {
      "text/plain": [
       "18713"
      ]
     },
     "execution_count": 6,
     "metadata": {},
     "output_type": "execute_result"
    }
   ],
   "source": [
    "Dialer_Problem(5,10)"
   ]
  },
  {
   "cell_type": "code",
   "execution_count": 7,
   "id": "4b126349",
   "metadata": {},
   "outputs": [],
   "source": [
    "def matrix_multiplication(a,b):\n",
    "    mat  = [[0,0,0,0,0,0,0,0,0,0],\n",
    "            [0,0,0,0,0,0,0,0,0,0],\n",
    "            [0,0,0,0,0,0,0,0,0,0],\n",
    "            [0,0,0,0,0,0,0,0,0,0],\n",
    "            [0,0,0,0,0,0,0,0,0,0],\n",
    "            [0,0,0,0,0,0,0,0,0,0],\n",
    "            [0,0,0,0,0,0,0,0,0,0],\n",
    "            [0,0,0,0,0,0,0,0,0,0],\n",
    "            [0,0,0,0,0,0,0,0,0,0],\n",
    "            [0,0,0,0,0,0,0,0,0,0]]\n",
    "    result = np.array(mat,dtype=np.float64)\n",
    "    for i in range(len(a)):\n",
    "        for j in range(len(b[0])):\n",
    "            for k in range(len(b)):\n",
    "                result[i][j] += a[i][k] * b[k][j]\n",
    "    return result "
   ]
  },
  {
   "cell_type": "code",
   "execution_count": 8,
   "id": "824f153d",
   "metadata": {},
   "outputs": [
    {
     "data": {
      "text/plain": [
       "array([[1., 0., 0., 0., 0., 1., 0., 1., 0., 1.],\n",
       "       [0., 2., 0., 1., 0., 2., 0., 1., 0., 0.],\n",
       "       [0., 0., 3., 0., 2., 0., 2., 0., 1., 0.],\n",
       "       [0., 1., 0., 2., 0., 2., 0., 0., 0., 1.],\n",
       "       [0., 0., 2., 0., 3., 0., 1., 0., 2., 0.],\n",
       "       [1., 2., 0., 2., 0., 4., 0., 2., 0., 2.],\n",
       "       [0., 0., 2., 0., 1., 0., 3., 0., 2., 0.],\n",
       "       [1., 1., 0., 0., 0., 2., 0., 2., 0., 1.],\n",
       "       [0., 0., 1., 0., 2., 0., 2., 0., 4., 0.],\n",
       "       [1., 0., 0., 1., 0., 2., 0., 1., 0., 2.]])"
      ]
     },
     "execution_count": 8,
     "metadata": {},
     "output_type": "execute_result"
    }
   ],
   "source": [
    "matrix_multiplication(A,A)"
   ]
  },
  {
   "cell_type": "code",
   "execution_count": 9,
   "id": "dcbd0d5a",
   "metadata": {},
   "outputs": [
    {
     "data": {
      "text/plain": [
       "array([[1, 0, 0, 0, 0, 1, 0, 1, 0, 1],\n",
       "       [0, 2, 0, 1, 0, 2, 0, 1, 0, 0],\n",
       "       [0, 0, 3, 0, 2, 0, 2, 0, 1, 0],\n",
       "       [0, 1, 0, 2, 0, 2, 0, 0, 0, 1],\n",
       "       [0, 0, 2, 0, 3, 0, 1, 0, 2, 0],\n",
       "       [1, 2, 0, 2, 0, 4, 0, 2, 0, 2],\n",
       "       [0, 0, 2, 0, 1, 0, 3, 0, 2, 0],\n",
       "       [1, 1, 0, 0, 0, 2, 0, 2, 0, 1],\n",
       "       [0, 0, 1, 0, 2, 0, 2, 0, 4, 0],\n",
       "       [1, 0, 0, 1, 0, 2, 0, 1, 0, 2]])"
      ]
     },
     "execution_count": 9,
     "metadata": {},
     "output_type": "execute_result"
    }
   ],
   "source": [
    "np.matmul(A ,A) "
   ]
  },
  {
   "cell_type": "code",
   "execution_count": 10,
   "id": "a72fb3b1",
   "metadata": {},
   "outputs": [],
   "source": [
    "# e\n",
    "\n",
    "def Dialer_Problem_r (S,N):\n",
    "    s = A\n",
    "    s_1 = np.matrix([1, 1, 1, 1, 1, 1, 1, 1, 1, 1])\n",
    "    s_t = np.transpose(s_1)\n",
    "    \n",
    "    if N > 1 :\n",
    "        for x in range(1, N-1):\n",
    "            s = matrix_multiplication(s ,A) \n",
    "        result = matrix_multiplication(s, s_t)\n",
    "        return result[S].sum()\n",
    "    else:\n",
    "        print(1)"
   ]
  },
  {
   "cell_type": "code",
   "execution_count": 11,
   "id": "2c11e992",
   "metadata": {},
   "outputs": [
    {
     "data": {
      "text/plain": [
       "18713.0"
      ]
     },
     "execution_count": 11,
     "metadata": {},
     "output_type": "execute_result"
    }
   ],
   "source": [
    "Dialer_Problem_r (5,10)"
   ]
  },
  {
   "cell_type": "code",
   "execution_count": 12,
   "id": "2dc4fc09",
   "metadata": {},
   "outputs": [],
   "source": [
    "# f\n",
    "# g\n",
    "\n",
    "\n",
    "import time\n",
    "\n",
    "import matplotlib.pyplot as plt\n",
    "\n",
    "def Execution_Time(N):\n",
    "    ET = []\n",
    "    x = np.array(range(2,N))\n",
    "    for i in range(2,N):\n",
    "        begin = time.time()\n",
    "        Dialer_Problem_r (0,i)\n",
    "        end = time.time()\n",
    "        t = (end - begin)*1000\n",
    "        ET.append(t)\n",
    "           \n",
    "    plt.xlabel('N')\n",
    "    plt.ylabel('Execution Time(ms)')\n",
    "    plt.plot(x, ET)\n",
    "    #obtain m (slope) and b(intercept) of linear regression line\n",
    "    m, b = np.polyfit(x,ET,1)\n",
    "\n",
    "    #add linear regression line to scatterplot \n",
    "    plt.plot(x, m*x+b,color='red')\n",
    "    # The time it will take to run the code for N = 10^7\n",
    "    t = m*10**7+b\n",
    "    print('The slope is {} \\nThe intercept is {}'.format(m, b))\n",
    "    print('It will take',t , 'to finish for N = 1000' )"
   ]
  },
  {
   "cell_type": "code",
   "execution_count": null,
   "id": "0d11e842",
   "metadata": {},
   "outputs": [],
   "source": [
    "Execution_Time(1000)"
   ]
  },
  {
   "cell_type": "code",
   "execution_count": 14,
   "id": "f20c9c07",
   "metadata": {},
   "outputs": [],
   "source": [
    "# h \n",
    "def DTB(number):\n",
    "    result = \"\"\n",
    "    while number != 0:\n",
    "        remainder = number % 2  \n",
    "        number = number // 2\n",
    "        result = str(remainder) + result\n",
    "    return result"
   ]
  },
  {
   "cell_type": "code",
   "execution_count": 15,
   "id": "f5100ea1",
   "metadata": {},
   "outputs": [],
   "source": [
    "def Dialer_Problem_r2(S,N):\n",
    "    A = [[0, 0, 0, 0, 0, 0, 0, 0, 1, 0], \n",
    "         [0, 0, 1, 0, 1, 0, 0, 0, 0, 0],\n",
    "         [0, 1, 0, 1, 0, 1, 0, 0, 0, 0],\n",
    "         [0, 0, 1, 0, 0, 0, 1, 0, 0, 0],\n",
    "         [0, 1, 0, 0, 0, 1, 0, 1, 0, 0],\n",
    "         [0, 0, 1, 0, 1, 0, 1, 0, 1, 0],\n",
    "         [0, 0, 0, 1, 0, 1, 0, 0, 0, 1],\n",
    "         [0, 0, 0, 0, 1, 0, 0, 0, 1, 0],\n",
    "         [1, 0, 0, 0, 0, 1, 0, 1, 0, 1],\n",
    "         [0, 0, 0, 0, 0, 0, 1, 0, 1, 0]]\n",
    "   \n",
    "    s_1 = np.matrix([1, 1, 1, 1, 1, 1, 1, 1, 1, 1])\n",
    "    \n",
    "    s_t = np.transpose(s_1)\n",
    "    \n",
    "    result  = np.zeros([10,10])\n",
    "    \n",
    "    np.fill_diagonal(result,1)\n",
    "    \n",
    "    A_2 = matrix_multiplication(A, A)\n",
    "    \n",
    "    M_list = []\n",
    "    \n",
    "    i = 0\n",
    "    \n",
    "    if N-1 > 2 :\n",
    "        \n",
    "        binary = int(DTB(N-1))\n",
    "        \n",
    "        p = len(DTB(N-1))-1\n",
    "        \n",
    "        if binary % 10 == 1:\n",
    "            \n",
    "            result =  matrix_multiplication(result, A)\n",
    "        \n",
    "        binary = binary//10\n",
    "        \n",
    "        while (p > 0):\n",
    "            A  = matrix_multiplication(A,A)\n",
    "            M_list.append(A)\n",
    "            p = p - 1\n",
    "        \n",
    "        while(binary != 0):\n",
    "            \n",
    "            remainder = binary % 10\n",
    "            \n",
    "            #print('remainder',remainder)\n",
    "             \n",
    "            #print('power', i)\n",
    "           \n",
    "            \n",
    "            if remainder == 1:\n",
    "                result = matrix_multiplication(result, M_list[i])\n",
    "    \n",
    "            i = i +1\n",
    "            binary = binary//10\n",
    "            \n",
    "        result = matrix_multiplication(result,s_t)\n",
    "        \n",
    "        return result[S].sum()\n",
    "    \n",
    "    elif N-1 == 2:\n",
    "        \n",
    "        result = matrix_multiplication(A_2,s_t)\n",
    "        \n",
    "        return result[S].sum()\n",
    "        \n",
    "    elif N == 1:\n",
    "        \n",
    "        print(1)"
   ]
  },
  {
   "cell_type": "code",
   "execution_count": 16,
   "id": "f9774fe3",
   "metadata": {},
   "outputs": [
    {
     "data": {
      "text/plain": [
       "18713.0"
      ]
     },
     "execution_count": 16,
     "metadata": {},
     "output_type": "execute_result"
    }
   ],
   "source": [
    "Dialer_Problem_r2(5,10)"
   ]
  },
  {
   "cell_type": "code",
   "execution_count": 17,
   "id": "103598eb",
   "metadata": {
    "scrolled": true
   },
   "outputs": [
    {
     "data": {
      "text/plain": [
       "18713"
      ]
     },
     "execution_count": 17,
     "metadata": {},
     "output_type": "execute_result"
    }
   ],
   "source": [
    "Dialer_Problem(5,10)"
   ]
  },
  {
   "cell_type": "code",
   "execution_count": 18,
   "id": "25bfdbc4",
   "metadata": {},
   "outputs": [],
   "source": [
    "def Execution_Time2(N):\n",
    "    ET = []\n",
    "    x = np.array(range(2,N))\n",
    "    for i in range(2,N):\n",
    "        begin = time.time()\n",
    "        Dialer_Problem_r2 (0,i)\n",
    "        end = time.time()\n",
    "        t = (end - begin)*1000\n",
    "        ET.append(t)\n",
    "           \n",
    "    plt.xlabel('N')\n",
    "    plt.ylabel('Execution Time(ms)')\n",
    "    plt.plot(x, ET)\n",
    "   \n",
    "  \n",
    "    #obtain m (slope) and b(intercept) of linear regression line\n",
    "    coeff = np.polyfit(x, ET, 5) \n",
    "    y = np.poly1d( coeff)\n",
    "    #add linear regression line to scatterplot \n",
    "    plt.plot(x, y(x),color='red')\n",
    "    \n",
    "    "
   ]
  },
  {
   "cell_type": "code",
   "execution_count": 19,
   "id": "2b1d0274",
   "metadata": {
    "scrolled": true
   },
   "outputs": [
    {
     "name": "stderr",
     "output_type": "stream",
     "text": [
      "<ipython-input-7-c56c0cefdfba>:16: RuntimeWarning: overflow encountered in add\n",
      "  result[i][j] += a[i][k] * b[k][j]\n",
      "<ipython-input-7-c56c0cefdfba>:16: RuntimeWarning: overflow encountered in scalar add\n",
      "  result[i][j] += a[i][k] * b[k][j]\n",
      "<ipython-input-7-c56c0cefdfba>:16: RuntimeWarning: overflow encountered in scalar multiply\n",
      "  result[i][j] += a[i][k] * b[k][j]\n"
     ]
    },
    {
     "data": {
      "image/png": "[encoded data removed]",
      "text/plain": [
       "<Figure size 432x288 with 1 Axes>"
      ]
     },
     "metadata": {
      "needs_background": "light"
     },
     "output_type": "display_data"
    }
   ],
   "source": [
    "Execution_Time2(1000)"
   ]
  },
  {
   "cell_type": "code",
   "execution_count": null,
   "id": "d8a40d16",
   "metadata": {},
   "outputs": [],
   "source": [
    "#Problem 2: A simple dimensionality reduction"
   ]
  },
  {
   "cell_type": "code",
   "execution_count": null,
   "id": "4d5b2fd1",
   "metadata": {},
   "outputs": [],
   "source": [
    "# a\n",
    "\n",
    "D = np.array(([1.72,0.10],\n",
    "              [-0.58,0.31],\n",
    "              [1.99,1.54],\n",
    "              [1.60,4.97],\n",
    "              [2.72,2.43],\n",
    "              [2.83,3.59],\n",
    "              [5.95,7.71],\n",
    "              [4.75,7.63],\n",
    "              [5.57,5.60],\n",
    "              [9.82,7.91],))"
   ]
  },
  {
   "cell_type": "code",
   "execution_count": null,
   "id": "83372cf6",
   "metadata": {},
   "outputs": [],
   "source": [
    "D"
   ]
  },
  {
   "cell_type": "code",
   "execution_count": null,
   "id": "28134e3f",
   "metadata": {},
   "outputs": [],
   "source": [
    "# b\n",
    "\n",
    "COV = np.cov(D.T)"
   ]
  },
  {
   "cell_type": "code",
   "execution_count": null,
   "id": "de2367a6",
   "metadata": {},
   "outputs": [],
   "source": [
    "COV"
   ]
  },
  {
   "cell_type": "code",
   "execution_count": null,
   "id": "568f2e57",
   "metadata": {},
   "outputs": [],
   "source": [
    "from numpy import linalg as LA"
   ]
  },
  {
   "cell_type": "code",
   "execution_count": null,
   "id": "f019f14c",
   "metadata": {},
   "outputs": [],
   "source": [
    "w, v = LA.eig(COV)"
   ]
  },
  {
   "cell_type": "code",
   "execution_count": null,
   "id": "6646ed6c",
   "metadata": {},
   "outputs": [],
   "source": [
    "w"
   ]
  },
  {
   "cell_type": "code",
   "execution_count": null,
   "id": "80934294",
   "metadata": {},
   "outputs": [],
   "source": [
    "v"
   ]
  },
  {
   "cell_type": "code",
   "execution_count": null,
   "id": "423fd9dd",
   "metadata": {},
   "outputs": [],
   "source": [
    "ind = np.argsort(w)[::-1]  \n",
    "\n",
    "w = w[ind]\n",
    "v = v[:,ind]"
   ]
  },
  {
   "cell_type": "code",
   "execution_count": null,
   "id": "cdfa7a5b",
   "metadata": {},
   "outputs": [],
   "source": [
    "# b\n",
    "v[:,:1]"
   ]
  },
  {
   "cell_type": "code",
   "execution_count": null,
   "id": "7c29624d",
   "metadata": {},
   "outputs": [],
   "source": [
    "# c\n",
    "p = v[:,:1]\n",
    "D_reduced = np.dot(p.T,D.T).T\n",
    "D_reduced"
   ]
  },
  {
   "cell_type": "code",
   "execution_count": null,
   "id": "21b00030",
   "metadata": {
    "scrolled": true
   },
   "outputs": [],
   "source": [
    "annotations=[\"1\",\"2\",\"3\",\"4\",\"5\",\"6\",\"7\",\"8\",\"9\",\"10\"]\n",
    "x = D[:,0]\n",
    "y = D[:,1]\n",
    "plt.scatter(x,y)\n",
    "plt.xlabel(\"X\")\n",
    "plt.ylabel(\"Y\")\n",
    "for i, label in enumerate(annotations):\n",
    "    plt.annotate(label, (x[i], y[i]))\n"
   ]
  },
  {
   "cell_type": "code",
   "execution_count": null,
   "id": "c688f520",
   "metadata": {},
   "outputs": [],
   "source": [
    "annotations=[\"1\",\"2\",\"3\",\"4\",\"5\",\"6\",\"7\",\"8\",\"9\",\"10\"]\n",
    "\n",
    "x = D_reduced\n",
    "y = np.zeros(10)\n",
    "plt.scatter(x,y)\n",
    "for i, label in enumerate(annotations):\n",
    "    plt.annotate(label, (x[i], y[i]))\n"
   ]
  },
  {
   "cell_type": "markdown",
   "id": "7b7f515f",
   "metadata": {},
   "source": [
    "## Bayesian Statistics"
   ]
  },
  {
   "cell_type": "markdown",
   "id": "b03b2735",
   "metadata": {},
   "source": [
    "In the Bayesian framework, the probability is defined as the measure of belief in an event occurring. We naturally use our beliefs as a probability of an event. Our belief in a hypothesis after taking data is proportional to how well that hypothesis explains the data times our prior belief."
   ]
  },
  {
   "cell_type": "markdown",
   "id": "753d97d7",
   "metadata": {},
   "source": [
    "<center> $P(hypothesis|data) \\propto P(data|hypothesis) P(hypothesis)$ <center>"
   ]
  },
  {
   "cell_type": "markdown",
   "id": "bfce48fd",
   "metadata": {},
   "source": [
    "P(hypothesis|data): Posterior probability <br>\n",
    "P(data|hypothesis): Likelihood function <br>\n",
    "P(hypothesis): Prior probability"
   ]
  },
  {
   "cell_type": "markdown",
   "id": "d40bea54",
   "metadata": {},
   "source": [
    "Example: Daniel Kahneman has an interesting example in his book. Steve has been described by his neighbor as follows: “Steve is very shy and withdrawn, helpful but with very little interest in people or in the world of reality. He has a need for order and structure, and a passion for detail.” Is Steve more likely to be a librarian or a farmer?"
   ]
  },
  {
   "cell_type": "markdown",
   "id": "6d1b8217",
   "metadata": {},
   "source": [
    "At first glance, it seems that Steve is more likely to be a librarian. Are we missing something?\n",
    "Yes, we are missing prior belief (background information). In the United States, the ratio of male\n",
    "farmers to male librarians is about 20 to 1. How can we incorporate this background information\n",
    "in our belief? If we have no information from his neighbor, then the probability of being a librarian is $\\frac{1}{21}$. So, prior probability=P(steve is a librarian) = $\\frac{1}{21}$. Now, we are given information from the neighbor. The probability of his neighbor’s description given that Steve is a librarian shows the likelihood function. Let’s consider that we are 90% confident that the neighbor describes Steve in that way if he is a librarian. So, P(neighbor info|Steve is a librarian)= 0.9."
   ]
  },
  {
   "cell_type": "markdown",
   "id": "740b0325",
   "metadata": {},
   "source": [
    "P(Steve is a librarian|neighbor info) $\\propto$ P(neighbor info|Steve is a librarian) P(Steve is a librarian)"
   ]
  },
  {
   "cell_type": "markdown",
   "id": "058ea2d1",
   "metadata": {},
   "source": [
    "Posterior probability on the left-hand side of the equation should be normalized (0 ≤ P ≤ 1), so:"
   ]
  },
  {
   "cell_type": "markdown",
   "id": "3927ddfa",
   "metadata": {},
   "source": [
    "P(Steve is a librarian|neighbor info) <br>\n",
    "<br>\n",
    "= $\\frac{\\text{P(neighbor info|Steve is a librarian})P(\\text{Steve is a librarian)}}{\n",
    "P(\\text{neighbor info|Steve is a librarian})P(\\text{Steve is a librarian})+P(\\text{neighbor info|Steve is a farmer})P(\\text{Steve is a farmer})}$ <br>\n",
    "<br>\n",
    "Let’s consider that P(neighbor info|Steve is a farmer)= 0.5 <br>\n",
    " P(Steve is a librarian|neighbor info) =$\\frac{\n",
    "0.9× 1}{\n",
    "0.9× 1 +0.5× 20}$\n",
    "= 8.2% <br>\n",
    " Now, let’s look into another example:"
   ]
  },
  {
   "cell_type": "code",
   "execution_count": 1,
   "id": "95a8144b",
   "metadata": {},
   "outputs": [],
   "source": [
    "import numpy as np\n",
    "import matplotlib.pyplot as plt"
   ]
  },
  {
   "cell_type": "markdown",
   "id": "3aea589f",
   "metadata": {},
   "source": [
    "Poisson distribution <br>\n",
    "$P(k;\\lambda) = \\frac{\\lambda^{k}e^{-\\lambda}}{k!}$ <br>\n",
    "Create random numbers with Poisson distribution"
   ]
  },
  {
   "cell_type": "code",
   "execution_count": 21,
   "id": "02769c96",
   "metadata": {},
   "outputs": [
    {
     "data": {
      "text/plain": [
       "(array([ 7, 14, 10, ..., 10, 10,  8]), 100000)"
      ]
     },
     "execution_count": 21,
     "metadata": {},
     "output_type": "execute_result"
    }
   ],
   "source": [
    "t = np.random.poisson(10, 100000)\n",
    "t, len(t)"
   ]
  },
  {
   "cell_type": "markdown",
   "id": "2035ee4e",
   "metadata": {},
   "source": [
    "what is the average of k?"
   ]
  },
  {
   "cell_type": "code",
   "execution_count": 10,
   "id": "6e7f29d8",
   "metadata": {},
   "outputs": [],
   "source": [
    "Poisson = lambda k, λ: (λ**k) * np.exp(-λ) / np.math.factorial(k)"
   ]
  },
  {
   "cell_type": "code",
   "execution_count": 11,
   "id": "72d8f131",
   "metadata": {},
   "outputs": [],
   "source": [
    "Poisson = np.vectorize(Poisson)"
   ]
  },
  {
   "cell_type": "code",
   "execution_count": 24,
   "id": "b45b0569",
   "metadata": {},
   "outputs": [
    {
     "data": {
      "text/plain": [
       "array(0.00227)"
      ]
     },
     "execution_count": 24,
     "metadata": {},
     "output_type": "execute_result"
    }
   ],
   "source": [
    "Poisson(2, 10)"
   ]
  },
  {
   "cell_type": "code",
   "execution_count": 25,
   "id": "308cf6ed",
   "metadata": {},
   "outputs": [
    {
     "data": {
      "text/plain": [
       "array([ 0,  1,  2,  3,  4,  5,  6,  7,  8,  9, 10, 11, 12, 13, 14, 15, 16,\n",
       "       17, 18, 19, 20, 21, 22, 23, 24])"
      ]
     },
     "execution_count": 25,
     "metadata": {},
     "output_type": "execute_result"
    }
   ],
   "source": [
    "k = np.arange(25)\n",
    "k"
   ]
  },
  {
   "cell_type": "code",
   "execution_count": 26,
   "id": "7daca2ae",
   "metadata": {},
   "outputs": [],
   "source": [
    "poisson_function = [Poisson(k[i], 10) for i in range(len(k))]"
   ]
  },
  {
   "cell_type": "code",
   "execution_count": 27,
   "id": "b1693668",
   "metadata": {},
   "outputs": [
    {
     "data": {
      "text/plain": [
       "Text(0, 0.5, 'P')"
      ]
     },
     "execution_count": 27,
     "metadata": {},
     "output_type": "execute_result"
    },
    {
     "data": {
      "image/png": "[encoded data removed]",
      "text/plain": [
       "<Figure size 576x360 with 1 Axes>"
      ]
     },
     "metadata": {
      "needs_background": "light"
     },
     "output_type": "display_data"
    }
   ],
   "source": [
    "plt.figure(figsize = (8, 5))\n",
    "\n",
    "plt.hist(t, bins = 10, density = True)\n",
    "plt.plot(np.arange(25), poisson_function, c = 'r', marker = 'o')\n",
    "\n",
    "plt.xlabel('k', fontsize = 15)\n",
    "plt.ylabel('P', fontsize = 15)"
   ]
  },
  {
   "cell_type": "markdown",
   "id": "52b3fbbc",
   "metadata": {},
   "source": [
    "What is the average of k?"
   ]
  },
  {
   "cell_type": "code",
   "execution_count": 28,
   "id": "118552ea",
   "metadata": {},
   "outputs": [
    {
     "data": {
      "text/plain": [
       "10.00622"
      ]
     },
     "execution_count": 28,
     "metadata": {},
     "output_type": "execute_result"
    }
   ],
   "source": [
    "np.mean(t)"
   ]
  },
  {
   "cell_type": "code",
   "execution_count": 2,
   "id": "29022c65",
   "metadata": {},
   "outputs": [
    {
     "data": {
      "text/plain": [
       "array([53, 46, 42, 49, 45, 60, 56, 54, 49, 51, 56, 48, 39, 45, 38, 49, 53,\n",
       "       52, 30, 45, 54, 48, 39, 56, 52, 46, 54, 50, 55, 38, 65, 54, 68, 52,\n",
       "       48, 59, 55, 42, 44, 48, 42, 61, 44, 57, 57, 52, 53, 50, 44, 45, 41,\n",
       "       51])"
      ]
     },
     "execution_count": 2,
     "metadata": {},
     "output_type": "execute_result"
    }
   ],
   "source": [
    "tweet = np.random.poisson(50, 52)\n",
    "tweet"
   ]
  },
  {
   "cell_type": "code",
   "execution_count": 3,
   "id": "7af23355",
   "metadata": {},
   "outputs": [
    {
     "data": {
      "text/plain": [
       "Text(0.5, 1.0, 'Weekly tweet counts')"
      ]
     },
     "execution_count": 3,
     "metadata": {},
     "output_type": "execute_result"
    },
    {
     "data": {
      "image/png": "[encoded data removed]",
      "text/plain": [
       "<Figure size 1080x216 with 1 Axes>"
      ]
     },
     "metadata": {
      "needs_background": "light"
     },
     "output_type": "display_data"
    }
   ],
   "source": [
    "plt.figure(figsize = (15, 3))\n",
    "plt.bar(np.arange(1, 53), tweet, color = 'green', edgecolor='black')\n",
    "plt.xlim(0, 53)\n",
    "plt.xlabel('Week', fontsize = 15)\n",
    "plt.ylabel('tweet counts', fontsize = 15)\n",
    "\n",
    "plt.title('Weekly tweet counts', fontsize = 20)"
   ]
  },
  {
   "cell_type": "markdown",
   "id": "cd938de7",
   "metadata": {},
   "source": [
    "The data have been generated using Poisson distribution with $\\lambda=50$. Imagine that we don't know underlying distribution and we want to estimate it.<br>\n",
    "Consider that the weekly tweet counts are drawn from a Poisson distribution with unknown $\\lambda$. Do we have any prior belief on $\\lambda$? <br>\n",
    "Exponential random distribution<br>\n",
    "$P(\\lambda, \\alpha) = \\alpha e^{-\\lambda \\alpha}$"
   ]
  },
  {
   "cell_type": "markdown",
   "id": "d2330da3",
   "metadata": {},
   "source": [
    "Assume that a normal person tweets 25 tweets per week ($\\alpha = 1/25=0.04$)"
   ]
  },
  {
   "cell_type": "code",
   "execution_count": 4,
   "id": "537faa51",
   "metadata": {},
   "outputs": [],
   "source": [
    "Exponential = lambda λ, α: α * np.exp(-λ * α)\n",
    "Exponential = np.vectorize(Exponential)"
   ]
  },
  {
   "cell_type": "code",
   "execution_count": 6,
   "metadata": {},
   "outputs": [
    {
     "data": {
      "image/png": "[encoded data removed]",
      "text/plain": [
       "<Figure size 432x288 with 1 Axes>"
      ]
     },
     "metadata": {
      "needs_background": "light"
     },
     "output_type": "display_data"
    }
   ],
   "source": [
    "plt.plot(np.linspace(0, 200, 1000), Exponential(np.linspace(0, 200, 1000), 0.04), c = 'r')\n",
    "plt.xlabel(r'$\\lambda$', fontsize = 15)\n",
    "plt.ylabel(r'$P$', fontsize = 15)\n",
    "plt.show()"
   ]
  },
  {
   "cell_type": "markdown",
   "id": "e385034d",
   "metadata": {},
   "source": [
    "Let's make a grid for $\\lambda$ and find posterior of every single point"
   ]
  },
  {
   "cell_type": "code",
   "execution_count": 7,
   "id": "b408599b",
   "metadata": {},
   "outputs": [
    {
     "data": {
      "text/plain": [
       "array([40.        , 40.010005  , 40.02001001, ..., 59.97998999,\n",
       "       59.989995  , 60.        ])"
      ]
     },
     "execution_count": 7,
     "metadata": {},
     "output_type": "execute_result"
    }
   ],
   "source": [
    "λ_est = np.linspace(40, 60, 2000)\n",
    "λ_est"
   ]
  },
  {
   "cell_type": "code",
   "execution_count": 8,
   "id": "1ed82619",
   "metadata": {},
   "outputs": [],
   "source": [
    "def posterior_tweet(λ_est, tweet_Data):\n",
    "    return np.prod(Poisson(tweet_Data, λ_est) * Exponential(λ_est, 0.04))"
   ]
  },
  {
   "cell_type": "code",
   "execution_count": 12,
   "id": "08492d8c",
   "metadata": {},
   "outputs": [],
   "source": [
    "P = np.array([])\n",
    "for j in λ_est:\n",
    "    P = np.append(P, posterior_tweet(j, tweet))"
   ]
  },
  {
   "cell_type": "code",
   "execution_count": 13,
   "id": "e910dd0e",
   "metadata": {},
   "outputs": [],
   "source": [
    "Posterior = P / np.trapz(P, λ_est)"
   ]
  },
  {
   "cell_type": "code",
   "execution_count": 15,
   "metadata": {},
   "outputs": [
    {
     "data": {
      "text/plain": [
       "array([8.03279482e-18, 8.92364347e-18, 9.91168686e-18, ...,\n",
       "       1.93827091e-32, 1.73622926e-32, 1.55513626e-32])"
      ]
     },
     "execution_count": 15,
     "metadata": {},
     "output_type": "execute_result"
    }
   ],
   "source": [
    "Posterior"
   ]
  },
  {
   "cell_type": "code",
   "execution_count": 14,
   "id": "8ab2cdc0",
   "metadata": {},
   "outputs": [
    {
     "data": {
      "text/plain": [
       "[<matplotlib.lines.Line2D at 0x7fa968122730>]"
      ]
     },
     "execution_count": 14,
     "metadata": {},
     "output_type": "execute_result"
    },
    {
     "data": {
      "image/png": "[encoded data removed]",
      "text/plain": [
       "<Figure size 432x288 with 1 Axes>"
      ]
     },
     "metadata": {
      "needs_background": "light"
     },
     "output_type": "display_data"
    }
   ],
   "source": [
    "plt.plot(λ_est, Posterior)"
   ]
  },
  {
   "cell_type": "code",
   "execution_count": 16,
   "id": "42ebc53f",
   "metadata": {},
   "outputs": [
    {
     "data": {
      "text/plain": [
       "47.78389194597298"
      ]
     },
     "execution_count": 16,
     "metadata": {},
     "output_type": "execute_result"
    }
   ],
   "source": [
    "λ_mode = λ_est[np.argmax(Posterior)]\n",
    "λ_mode"
   ]
  },
  {
   "cell_type": "code",
   "execution_count": 17,
   "id": "4de7611f",
   "metadata": {},
   "outputs": [
    {
     "data": {
      "text/plain": [
       "Text(47.78389194597298, 0.42440894070215646, '$\\\\lambda_{mode}$ = 47.78')"
      ]
     },
     "execution_count": 17,
     "metadata": {},
     "output_type": "execute_result"
    },
    {
     "data": {
      "image/png": "[encoded data removed]",
      "text/plain": [
       "<Figure size 576x360 with 1 Axes>"
      ]
     },
     "metadata": {
      "needs_background": "light"
     },
     "output_type": "display_data"
    }
   ],
   "source": [
    "plt.figure(figsize = (8, 5))\n",
    "plt.plot(λ_est, Posterior)\n",
    "plt.vlines(λ_mode, -0.01, 0.41, color = 'red')\n",
    "plt.xlabel('$\\lambda$', fontsize = 15)\n",
    "plt.ylabel('$P(\\lambda | data)$', fontsize = 15)\n",
    "plt.ylim(-0.01, 0.46)\n",
    "plt.xlim(45, 55)\n",
    "plt.text(λ_mode, np.max(Posterior), '$\\lambda_{mode}$ = %.2f' %λ_mode, fontsize = 18)"
   ]
  },
  {
   "cell_type": "markdown",
   "id": "4e9555cf",
   "metadata": {},
   "source": [
    "How to define confidence interval? Consider that the posterior is symmetric with no skew. <br>\n",
    "The expected value of $x = \\bar{x} = \\int xP(x)dx$"
   ]
  },
  {
   "cell_type": "code",
   "execution_count": 18,
   "id": "3a1e10be",
   "metadata": {},
   "outputs": [
    {
     "data": {
      "text/plain": [
       "47.79955621301775"
      ]
     },
     "execution_count": 18,
     "metadata": {},
     "output_type": "execute_result"
    }
   ],
   "source": [
    "μ = np.trapz(λ_est * Posterior, λ_est)\n",
    "μ"
   ]
  },
  {
   "cell_type": "markdown",
   "id": "e4d2d677",
   "metadata": {},
   "source": [
    "<center> Variace of $x = \\int (x-\\bar{x})^{2}P(x)dx$"
   ]
  },
  {
   "cell_type": "code",
   "execution_count": 19,
   "id": "d6ccf0e2",
   "metadata": {},
   "outputs": [
    {
     "data": {
      "text/plain": [
       "0.9401422942963136"
      ]
     },
     "execution_count": 19,
     "metadata": {},
     "output_type": "execute_result"
    }
   ],
   "source": [
    "σ = np.sqrt(np.trapz(((λ_est - μ)**2) * Posterior, λ_est))\n",
    "σ"
   ]
  },
  {
   "cell_type": "markdown",
   "id": "13abc212",
   "metadata": {},
   "source": [
    "so we are 68\\% confident that $\\lambda$ is between   and.   "
   ]
  },
  {
   "cell_type": "code",
   "execution_count": 20,
   "id": "c2679456",
   "metadata": {},
   "outputs": [],
   "source": [
    "mask = (λ_est >= (λ_mode - σ)) & (λ_est <= (λ_mode + σ))"
   ]
  },
  {
   "cell_type": "code",
   "execution_count": 21,
   "id": "6cb9682a",
   "metadata": {},
   "outputs": [
    {
     "data": {
      "text/plain": [
       "<matplotlib.collections.PolyCollection at 0x7fa998c7e940>"
      ]
     },
     "execution_count": 21,
     "metadata": {},
     "output_type": "execute_result"
    },
    {
     "data": {
      "image/png": "[encoded data removed]",
      "text/plain": [
       "<Figure size 576x360 with 1 Axes>"
      ]
     },
     "metadata": {
      "needs_background": "light"
     },
     "output_type": "display_data"
    }
   ],
   "source": [
    "plt.figure(figsize = (8, 5))\n",
    "plt.plot(λ_est, Posterior)\n",
    "plt.vlines(λ_mode, -0.01, 0.41, color = 'red')\n",
    "plt.xlabel('$\\lambda$', fontsize = 15)\n",
    "plt.ylabel('$P(\\lambda | data)$', fontsize = 15)\n",
    "plt.ylim(-0.01, 0.46)\n",
    "plt.xlim(45, 55)\n",
    "plt.text(λ_mode, np.max(Posterior), '$\\lambda_{mode}$ = %.2f' %λ_mode, fontsize = 18)\n",
    "plt.fill_between(λ_est, Posterior, where = [(x >= (λ_mode - σ)) & (x<= (λ_mode + σ)) for x in λ_est], facecolor = 'green', alpha = 0.3)"
   ]
  }
 ],
 "metadata": {
  "kernelspec": {
   "display_name": "Python 3",
   "language": "python",
   "name": "python3"
  },
  "language_info": {
   "codemirror_mode": {
    "name": "ipython",
    "version": 3
   },
   "file_extension": ".py",
   "mimetype": "text/x-python",
   "name": "python",
   "nbconvert_exporter": "python",
   "pygments_lexer": "ipython3",
   "version": "3.8.8"
  }
 },
 "nbformat": 4,
 "nbformat_minor": 2
}
